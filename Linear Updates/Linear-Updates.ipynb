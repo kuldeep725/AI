{
 "cells": [
  {
   "cell_type": "code",
   "execution_count": null,
   "metadata": {
    "_cell_guid": "b1076dfc-b9ad-4769-8c92-a6c4dae69d19",
    "_uuid": "8f2839f25d086af736a60e9eeb907d3b93b6e0e5"
   },
   "outputs": [],
   "source": [
    "# This Python 3 environment comes with many helpful analytics libraries installed\n",
    "# It is defined by the kaggle/python docker image: https://github.com/kaggle/docker-python\n",
    "# For example, here's several helpful packages to load in \n",
    "\n",
    "import numpy as np # linear algebra\n",
    "\n",
    "import pandas as pd # data processing, CSV file I/O (e.g. pd.read_csv)\n",
    "import matplotlib.pyplot as plt\n",
    "import seaborn as sns\n",
    "\n",
    "# Input data files are available in the \"../input/\" directory.\n",
    "# For example, running this (by clicking run or pressing Shift+Enter) will list the files in the input directory\n",
    "\n",
    "import os\n",
    "print(os.listdir(\"../input\"))\n",
    "\n",
    "# Any results you write to the current directory are saved as output."
   ]
  },
  {
   "cell_type": "code",
   "execution_count": null,
   "metadata": {
    "_uuid": "368ee4f9d5883643fa9ca5e80a2d46c8bc9681ce"
   },
   "outputs": [],
   "source": [
    "!nvidia-smi"
   ]
  },
  {
   "cell_type": "markdown",
   "metadata": {
    "_uuid": "1c5d3805dbbc61058962057f9d20e7cc7a418baf"
   },
   "source": [
    "### Noise $\\eta_t$ is a sequenc of identical and independent random variable.\n",
    "$\\eta_t$ takes value 1 or -1 with equal probability.\n"
   ]
  },
  {
   "cell_type": "code",
   "execution_count": null,
   "metadata": {
    "_uuid": "281bc09dbdf67724d7204528a4cc1ba9d2837df4"
   },
   "outputs": [],
   "source": [
    "def getNoise():\n",
    "    if np.random.rand()>0.5:\n",
    "        return 1\n",
    "    else:\n",
    "        return -1"
   ]
  },
  {
   "cell_type": "markdown",
   "metadata": {
    "_uuid": "ca8e776318f78227b64c509a7e7219fc1484a8fa"
   },
   "source": [
    "### PART1A: Find mean of $\\eta_t$ using averaging of noise($\\eta_t$)\n",
    "## $\\theta_t = \\frac{\\eta_1 + \\eta_2 + \\eta_3 + ..... + \\eta_t}{n}$"
   ]
  },
  {
   "cell_type": "code",
   "execution_count": null,
   "metadata": {
    "_uuid": "fcef55c676dbe80c9b17d5aaa86b022f3d595b2f"
   },
   "outputs": [],
   "source": [
    "rounds = 1000\n",
    "noise = np.asarray([getNoise() for i in range(rounds)])\n",
    "noise_cum = np.cumsum(noise)"
   ]
  },
  {
   "cell_type": "code",
   "execution_count": null,
   "metadata": {
    "_uuid": "6a928d657a92bfd89ea4b4639e61e190d1414315"
   },
   "outputs": [],
   "source": [
    "fig = plt.figure(figsize = (10, 10))\n",
    "ax1 = fig.add_subplot(111, xlabel = 't', ylabel = 'theta_t')\n",
    "ax1.plot([noise_cum[i - 1]/i for i in range(1, rounds + 1)])\n",
    "ax1.plot([np.sqrt(1/i) for i in range(1, rounds + 1)])\n",
    "ax1.plot([-np.sqrt(1/i) for i in range(1, rounds + 1)])"
   ]
  },
  {
   "cell_type": "markdown",
   "metadata": {
    "_uuid": "2a62406fd0a0052e2686e1597488938f1e122dcc"
   },
   "source": [
    "### PART1B: Approximation of mean using recursive linear update\n",
    "## $\\theta_t = \\theta_{t - 1} + \\alpha_t*(\\eta_t - \\theta_{t - 1})$\n",
    "where $\\alpha_t = \\frac{1}{t+k}$\n",
    "> This update finally converges to $\\theta_*$ which is mean of $\\eta_t$"
   ]
  },
  {
   "cell_type": "code",
   "execution_count": null,
   "metadata": {
    "_cell_guid": "79c7e3d0-c299-4dcb-8224-4455121ee9b0",
    "_uuid": "d629ff2d2480ee46fbb7e2d37f6b5fab8052498a"
   },
   "outputs": [],
   "source": [
    "rounds = 1000\n",
    "theta_t = np.asarray([0 for i in range(rounds + 1)], dtype = np.float32)\n",
    "for t in range(1, rounds + 1):\n",
    "    theta_t[t] = theta_t[t - 1] + (1/ t)*(noise[t - 1] - theta_t[t - 1])\n",
    "    \n",
    "fig = plt.figure(figsize = (10, 10))\n",
    "ax1 = fig.add_subplot(111, ylabel = \"theta_t\", xlabel = 't')\n",
    "ax1.plot([np.sqrt(1/i) for i in range(1, rounds + 1)])\n",
    "ax1.plot([-np.sqrt(1/i) for i in range(1, rounds + 1)])\n",
    "ax1.plot(theta_t[1:])"
   ]
  },
  {
   "cell_type": "code",
   "execution_count": null,
   "metadata": {
    "_uuid": "71411614168057da29c44b23e65bd243ffc1063b"
   },
   "outputs": [],
   "source": [
    "def avgUpdate1(k = 0, theta_star = 0, rounds = 1000, theta_t = None, noise = None):\n",
    "    if theta_t is None:\n",
    "        theta_t = np.asarray([0 for i in range(rounds + 1)], dtype = np.float32)\n",
    "    for t in range(1, rounds + 1):\n",
    "        alpha = 1/ (t+k)\n",
    "        theta_t[t] = theta_t[t - 1] +  alpha*(noise[t - 1] +theta_star - theta_t[t - 1])\n",
    "    \n",
    "    return theta_t\n"
   ]
  },
  {
   "cell_type": "code",
   "execution_count": null,
   "metadata": {
    "_uuid": "4ec52120fc5eea2431027a8978c20a077a310588"
   },
   "outputs": [],
   "source": [
    "fig, ax = plt.subplots(2, 5, sharex = 'col', sharey = 'row')\n",
    "fig.set_size_inches((20, 12))\n",
    "theta_0 = avgUpdate1(k = 0, noise = noise)\n",
    "for k in range(10):\n",
    "    theta_t = avgUpdate1(k = (k+1)*100, noise = noise)\n",
    "    ax[k//5][k%5].plot(theta_t[1:],  label = 'k = '+str((k+1)*100))\n",
    "    ax[k//5][k%5].set_title(\"k = \"+str((k+1)*100))\n",
    "    \n",
    "    ax[k//5][k%5].plot([np.sqrt(1/(0+i)) for i in range(1, rounds + 1)])\n",
    "    ax[k//5][k%5].plot([-np.sqrt(1/(0+i)) for i in range(1, rounds - 1)])\n",
    "    \n",
    "    #k = 0\n",
    "    ax[k//5][k%5].plot(theta_0[1:], label = 'k = 0')\n",
    "    ax[k//5][k%5].legend()"
   ]
  },
  {
   "cell_type": "markdown",
   "metadata": {
    "_uuid": "6957bd10aadba0f4176855c0398e2db164d0e213"
   },
   "source": [
    "### PART1C: Approximation of mean using recursive linear update and constant $\\alpha_t$\n",
    "## $\\theta_t = \\theta_{t - 1} + \\alpha_t*(\\eta_t - \\theta_{t - 1})$\n",
    "where $\\alpha_t \\in \\{2, 1, 0.1, 0.01\\}$\n",
    "> This update finally converges to $\\theta_*$ which is mean of $\\eta_t$"
   ]
  },
  {
   "cell_type": "code",
   "execution_count": null,
   "metadata": {
    "_uuid": "336b6e3d82a866224aa1c38e2553914d49436790"
   },
   "outputs": [],
   "source": [
    "def avgUpdate2(alpha_t = 0.1, theta_star = 0, rounds = 1000, theta_t = None, noise = None):\n",
    "    if theta_t == None:\n",
    "        theta_t = [0 for i in range(rounds + 1)]\n",
    "    for t in range(1, rounds + 1):\n",
    "        theta_t[t] = theta_t[t - 1] + alpha_t*(noise[t - 1] + theta_star - theta_t[t - 1])\n",
    "        \n",
    "    return theta_t"
   ]
  },
  {
   "cell_type": "code",
   "execution_count": null,
   "metadata": {
    "_uuid": "0725f46946f0da705c4eb7c154a3f0eb6a8a095c"
   },
   "outputs": [],
   "source": [
    "alpha = [1.1, 1, 0.1, 0.01]\n",
    "fig, ax = plt.subplots(2, 2, sharex = 'col', sharey = 'row')\n",
    "fig.set_size_inches(10, 10)\n",
    "for (ind, alpha_t) in enumerate(alpha):\n",
    "    theta_t = avgUpdate2(alpha_t = alpha_t, noise = noise)\n",
    "    ax[ind//2][ind%2].scatter(np.arange(rounds), theta_t[1:], s = 1)\n",
    "    ax[ind//2][ind%2].set_title(\"alpha = \"+str(alpha_t))"
   ]
  },
  {
   "cell_type": "markdown",
   "metadata": {
    "_uuid": "c843143a1536690d4dd15cd4a227621930df9ee3"
   },
   "source": [
    "### PART1D: Averaging and recusion with input plus some noise\n",
    "> $\\theta_t = \\theta_{t-1} + \\alpha_t*(\\eta_t +  \\theta_* - \\theta_{t - 1})$<br/>\n",
    "> $E[\\eta_t] = 0$ and this recursion converges to $\\theta_*$(constant)\n",
    "\n",
    "**D1**. Learning Rate = $\\alpha_t = \\frac{1}{t+k} $ : Diminishing step size"
   ]
  },
  {
   "cell_type": "code",
   "execution_count": null,
   "metadata": {
    "_uuid": "d86d69a91ca7aa3b0ba1d8f9378d8c55b29deb9f"
   },
   "outputs": [],
   "source": [
    "def avgUpdate3(theta_star = 1, rounds = 1000, theta_t = None, noise = None):\n",
    "    fig, ax = plt.subplots(2, 2, sharex = 'col', sharey = 'row')\n",
    "    fig.set_size_inches(10, 10)\n",
    "    theta_0 = avgUpdate1(k = 0, theta_star = theta_star, noise = noise)\n",
    "    for k in range(1, 5):\n",
    "        theta_t = avgUpdate1(k = k*200, theta_star = theta_star, noise = noise)\n",
    "        row = (k - 1)//2\n",
    "        col = (k - 1)%2\n",
    "        ax[row][col].plot(theta_t[1:], label = \"k = \"+str(k*200))\n",
    "        ax[row][col].plot(theta_0[1:], label = \"k = 0\")\n",
    "        ax[row][col].set_title(\"k = \"+str(k *200))\n",
    "        ax[row][col].legend()"
   ]
  },
  {
   "cell_type": "code",
   "execution_count": null,
   "metadata": {
    "_uuid": "5c09b231004493d540f372fae2673e15b9ed14b7"
   },
   "outputs": [],
   "source": [
    "avgUpdate3(theta_star= -1.5, noise = noise)"
   ]
  },
  {
   "cell_type": "code",
   "execution_count": null,
   "metadata": {
    "_uuid": "e1387955e06ef370b43039fff20006d35fcbdca4"
   },
   "outputs": [],
   "source": [
    "avgUpdate3(theta_star= -1,noise = noise)"
   ]
  },
  {
   "cell_type": "markdown",
   "metadata": {
    "_uuid": "1ca04d0f9ae5a663a442744925b52223669e4f39"
   },
   "source": [
    "#### D2: $\\alpha_t \\in \\{2, 1, 0.1, 0.01\\}$: constant step size"
   ]
  },
  {
   "cell_type": "code",
   "execution_count": null,
   "metadata": {
    "_uuid": "b1b92fd0812532c14b54a049274f4b87a1d4cec9"
   },
   "outputs": [],
   "source": [
    "def avgUpdate4(theta_star = 1, rounds = 1000, theta_t = None, noise = None):\n",
    "    alpha = [2, 1, 0.1, 0.01]\n",
    "    fig, ax = plt.subplots(2, 2, sharex = 'col', sharey = 'row')\n",
    "    fig.set_size_inches(10, 10)\n",
    "    for ind, alpha_t in enumerate(alpha):\n",
    "        theta_t = avgUpdate2(alpha_t = alpha_t, theta_star = theta_star, noise = noise)\n",
    "        row = (ind)//2\n",
    "        col = (ind)%2\n",
    "        ax[row][col].plot(theta_t[1:], label = \"alpha = \"+str(alpha_t))\n",
    "        ax[row][col].set_title(\"alpha = \"+str(alpha_t))\n",
    "        ax[row][col].legend()"
   ]
  },
  {
   "cell_type": "code",
   "execution_count": null,
   "metadata": {
    "_uuid": "a68cbd73a7764e88a299b231e1d675cce087bcf9"
   },
   "outputs": [],
   "source": [
    "avgUpdate4(theta_star= -1.5, noise = noise)"
   ]
  },
  {
   "cell_type": "code",
   "execution_count": null,
   "metadata": {
    "_uuid": "723eed2a9931326f8c0e37b804b05cf4db1f4609"
   },
   "outputs": [],
   "source": [
    "avgUpdate4(theta_star= -1, noise = noise)"
   ]
  },
  {
   "cell_type": "markdown",
   "metadata": {
    "_uuid": "9f4a1a28e7a5a3b7a37fa0993f11e5fcb7550409"
   },
   "source": [
    "#### PART1E: Averaging and recursion with only input and no noise\n",
    "#### $\\theta_t = \\theta_{t-1} + \\alpha_t * ( \\theta_* - \\theta_{t - 1})$\n",
    "Recursion converges to $\\theta_* = constant$ <br/>\n",
    "$\\alpha_t \\in$ {2, 1, 0.1, 0.01}"
   ]
  },
  {
   "cell_type": "code",
   "execution_count": null,
   "metadata": {
    "_uuid": "16ce85bf8492d46cf53120762be3503726496c61"
   },
   "outputs": [],
   "source": [
    "fig,ax = plt.subplots(2,2, sharex = 'col', sharey = 'row')\n",
    "fig.set_size_inches(10, 10)\n",
    "noise1 = np.zeros(noise.shape)\n",
    "alpha = [2, 1, 0.1, 0.01]\n",
    "for i, alpha_t in enumerate(alpha):\n",
    "    theta_t = avgUpdate2(alpha_t = alpha_t, theta_star = -3.5, \n",
    "                        noise = noise1)\n",
    "    row = i//2\n",
    "    col = i%2\n",
    "    ax[row][col].plot(theta_t[:])\n",
    "    ax[row][col].set_title(\"alpha = \"+str(alpha_t))"
   ]
  },
  {
   "cell_type": "code",
   "execution_count": null,
   "metadata": {
    "_uuid": "ac406f7ba1c9d81bee777f8a6409fa466d185d84"
   },
   "outputs": [],
   "source": []
  },
  {
   "cell_type": "markdown",
   "metadata": {
    "_uuid": "7127b6e5bfeb64d870845d915709666b568b6f2d"
   },
   "source": [
    "---\n",
    "### 2-Dimensional"
   ]
  },
  {
   "cell_type": "code",
   "execution_count": null,
   "metadata": {
    "_uuid": "9b784992d2ea883e6772dbc29b2872f3f35e6d0f"
   },
   "outputs": [],
   "source": [
    "noise = np.asarray([[getNoise(), getNoise()] for _ in range(1000)]).reshape(2, 1000)\n",
    "print(noise.shape)"
   ]
  },
  {
   "cell_type": "code",
   "execution_count": null,
   "metadata": {
    "_uuid": "a4c994471f887c15d55ca3314592d09546f43d74"
   },
   "outputs": [],
   "source": [
    "noise"
   ]
  },
  {
   "cell_type": "markdown",
   "metadata": {
    "_uuid": "16abcac003f40bdc86c37cd4ce620ae6b392dc9f"
   },
   "source": [
    "### PART2A: Find mean of $\\eta_t$ using averaging of noise($\\eta_t$)\n",
    "## $\\theta_t = \\frac{\\eta_1 + \\eta_2 + \\eta_3 + ..... + \\eta_t}{n}$"
   ]
  },
  {
   "cell_type": "code",
   "execution_count": null,
   "metadata": {
    "_uuid": "1fe8004ef836ed5cdcc93350dd348765d1e0a97f"
   },
   "outputs": [],
   "source": [
    "noise_cum = np.cumsum(noise, axis = 1)"
   ]
  },
  {
   "cell_type": "code",
   "execution_count": null,
   "metadata": {
    "_uuid": "fd429ba9086673816e0c5fe7248394b2dd114404"
   },
   "outputs": [],
   "source": [
    "fig = plt.figure(figsize = (8, 8))\n",
    "ax1 = fig.add_subplot(111, xlabel = \"t\", ylabel = \"mean\")\n",
    "ax1.plot()"
   ]
  },
  {
   "cell_type": "code",
   "execution_count": null,
   "metadata": {
    "_uuid": "54f23d2464c8e8d4e685a3c09d78752f83c02b98"
   },
   "outputs": [],
   "source": []
  },
  {
   "cell_type": "markdown",
   "metadata": {
    "_uuid": "bb8e88d1f92093e5720e230516df9f1d9439af37"
   },
   "source": [
    "---"
   ]
  },
  {
   "cell_type": "markdown",
   "metadata": {
    "_uuid": "10dd088f381062c7073efb7183c5fbc215adc56d"
   },
   "source": [
    "# Solving $A\\theta_* = b$"
   ]
  },
  {
   "cell_type": "code",
   "execution_count": null,
   "metadata": {
    "_uuid": "eff0ddd1ac06137d9c70f50fc9206baad59e41b0"
   },
   "outputs": [],
   "source": [
    "# np.linalg.norm(noise, axis = 0)\n",
    "c_tList = [10, 100, 1000]\n",
    "rounds = 1000"
   ]
  },
  {
   "cell_type": "code",
   "execution_count": null,
   "metadata": {
    "_uuid": "e962cd9a8194ecd21d9ef7b24bb2b1be8fb14e3f"
   },
   "outputs": [],
   "source": [
    "def plotHelper(theta_t, alpha_t, noise = False, decay = False, \n",
    "               c = 0.1, c_t = 10, ax = ax, ind = 0):\n",
    "    theta_star = theta_t[:, -1].reshape(2, 1)\n",
    "    \n",
    "    if decay == False:\n",
    "        title = 'alpha_t = '+str(alpha_t)\n",
    "    else:\n",
    "        title = 'alpha_t = '+str(c)+\"/(\"+str(c_t)+\"+t)\"\n",
    "    if noise:\n",
    "        title += \", with noise\"\n",
    "    \n",
    "    ax[ind//3][ind%3].plot(np.linalg.norm(theta_t - theta_star, axis = 0))\n",
    "    ax[ind//3][ind%3].set_title(title)\n",
    "    ax[ind//3][ind%3].set_xlabel('iteration')\n",
    "    ax[ind//3][ind%3].set_ylabel('||e_t||')\n",
    "    \n",
    "def avgUpdate1(A, b, theta_t, alpha_t, noise_t = False, rounds = 1000, decay = False,\n",
    "              c = 0.1, c_t = 10):\n",
    "    \n",
    "    for i in range(1, rounds+1):\n",
    "        if decay == True:\n",
    "            alpha_t = (c/(i + c_t))\n",
    "            \n",
    "        if noise_t == False:\n",
    "            noise = np.zeros(b.shape, dtype = np.float32)\n",
    "        else:\n",
    "            noise = np.array([getNoise(), getNoise()], dtype = np.float32).reshape(b.shape)\n",
    "        theta_t[:, i:i+1] = theta_t[:, i - 1:i] + alpha_t*(b - np.dot(A, theta_t[:, i - 1:i]))\n",
    "    \n",
    "    return theta_t\n",
    "\n",
    "def linearUpdate(A, b, alpha):\n",
    "    alpha_t = alpha\n",
    "    fig, ax = plt.subplots(3, 3, sharex = 'col', sharey = 'row')\n",
    "    fig.set_size_inches(12, 9)\n",
    "    theta_0 = np.zeros((2, rounds))\n",
    "    ind = 0\n",
    "    theta_t = avgUpdate1(A, b, theta_t = theta_0, alpha_t = alpha_t, noise_t = False,\n",
    "                         rounds = rounds,decay = False, c = None, c_t = None)\n",
    "    plotHelper(theta_t, alpha_t, noise = False, decay = False, \n",
    "               c = None, c_t = None, ax = ax, ind = ind)\n",
    "    ind+=1\n",
    "    theta_t = avgUpdate1(A, b, theta_t = theta_0, alpha_t = alpha_t, noise_t = True,\n",
    "                         rounds = rounds,decay = False, c = None, c_t = None)\n",
    "    plotHelper(theta_t, alpha_t, noise = True, decay = False, \n",
    "               c = None, c_t = None, ax = ax, ind = ind)\n",
    "    ind+=1\n",
    "    for c_t in c_tList:\n",
    "        theta_t = avgUpdate1(A, b, theta_t = theta_0, alpha_t = alpha_t, noise_t = False,\n",
    "                             rounds = rounds,decay = True, c = 0.1, c_t = c_t)\n",
    "        plotHelper(theta_t, alpha_t, noise = False, decay = True, \n",
    "           c = 0.1, c_t = c_t, ax = ax, ind = ind)\n",
    "        ind+=1\n",
    "        theta_t = avgUpdate1(A, b, theta_t = theta_0, alpha_t = alpha_t, noise_t = True,\n",
    "                     rounds = rounds,decay = True, c = 0.1, c_t = c_t)\n",
    "        plotHelper(theta_t, alpha_t, noise = True, decay = True, \n",
    "           c = 0.1, c_t = c_t, ax = ax, ind = ind)\n",
    "        ind+=1"
   ]
  },
  {
   "cell_type": "markdown",
   "metadata": {
    "_uuid": "281749bd6ee3518f44b66d62113e34d77797510b"
   },
   "source": [
    "### Part1\n",
    "$A = \\begin{bmatrix}\n",
    "   1 & 0\\\\\n",
    "   0&1\n",
    "   \\end{bmatrix}\\, b = \\begin{bmatrix}\n",
    "   1 \\\\\n",
    "   1\\end{bmatrix}$\n",
    "   "
   ]
  },
  {
   "cell_type": "code",
   "execution_count": null,
   "metadata": {
    "_uuid": "9f1028e30c1e76e0e27bafe7fddcdd068bdf0cff"
   },
   "outputs": [],
   "source": [
    "A = np.identity(2, dtype = np.float32)\n",
    "b = np.array([1, 1]).reshape(2, 1)\n",
    "linearUpdate(A, b, 0.1)"
   ]
  },
  {
   "cell_type": "markdown",
   "metadata": {
    "_uuid": "76ca382912fe00a121d18c04b870d34840a0a11c"
   },
   "source": [
    "   > $b = \\begin{bmatrix}\n",
    "   1 \\\\\n",
    "   -1\\end{bmatrix}$"
   ]
  },
  {
   "cell_type": "code",
   "execution_count": null,
   "metadata": {
    "_uuid": "4e9997efc8926c0ac178db0cd142d4c0797ff59f"
   },
   "outputs": [],
   "source": [
    "b = np.array([1, -1]).reshape(2, 1)\n",
    "linearUpdate(A, b, 0.1)"
   ]
  },
  {
   "cell_type": "markdown",
   "metadata": {
    "_uuid": "ae33b7ea842ace9405699e5a39eae5e2231c954a"
   },
   "source": [
    "   > $b = \\begin{bmatrix}\n",
    "   10 \\\\\n",
    "   1\\end{bmatrix}$"
   ]
  },
  {
   "cell_type": "code",
   "execution_count": null,
   "metadata": {
    "_uuid": "4c51e1544ceee35fc828d7f0d47b373f345d13da"
   },
   "outputs": [],
   "source": [
    "b = np.array([10, 1]).reshape(2, 1)\n",
    "linearUpdate(A, b, 0.1)"
   ]
  },
  {
   "cell_type": "markdown",
   "metadata": {
    "_uuid": "452b419596f46cbf86239794bde2b8e5b743c665"
   },
   "source": [
    "### Part2\n",
    "$A = \\begin{bmatrix}\n",
    "   2 & 0\\\\\n",
    "   0&1\n",
    "   \\end{bmatrix}$\n",
    "   > $b = \\begin{bmatrix}\n",
    "   1 \\\\\n",
    "   1\\end{bmatrix}$\n"
   ]
  },
  {
   "cell_type": "code",
   "execution_count": null,
   "metadata": {
    "_uuid": "d4f22caf7998a2cefa0d619c6b96b0882da984b6"
   },
   "outputs": [],
   "source": [
    "A = np.array([[2, 0], [0, 1]])\n",
    "b = np.array([1, 1]).reshape(2, 1)\n",
    "linearUpdate(A, b, 0.9)"
   ]
  },
  {
   "cell_type": "markdown",
   "metadata": {
    "_uuid": "e3801c201c74152cd579f34ba466897e9c20881a"
   },
   "source": [
    "   > $b = \\begin{bmatrix}\n",
    "   1 \\\\\n",
    "   -1\\end{bmatrix}$"
   ]
  },
  {
   "cell_type": "code",
   "execution_count": null,
   "metadata": {
    "_uuid": "d75bc9ff439a085b3c226a4e0f24cb62c3a4319f"
   },
   "outputs": [],
   "source": [
    "b = np.array([1, -1]).reshape(2, 1)\n",
    "linearUpdate(A, b, 0.1)"
   ]
  },
  {
   "cell_type": "markdown",
   "metadata": {
    "_uuid": "cd737210020fec2e42017e772e80f61740204706"
   },
   "source": [
    "   > $b = \\begin{bmatrix}\n",
    "   10 \\\\\n",
    "   1\\end{bmatrix}$"
   ]
  },
  {
   "cell_type": "code",
   "execution_count": null,
   "metadata": {
    "_uuid": "e9b7bd93245cf49d8784f5392eac2d65d5aa1007"
   },
   "outputs": [],
   "source": [
    "b = np.array([10, 1]).reshape(2, 1)\n",
    "linearUpdate(A, b, 0.1)"
   ]
  },
  {
   "cell_type": "markdown",
   "metadata": {
    "_uuid": "191ef3ec6dc94bdc03dd836d9563442224b9dbf8"
   },
   "source": [
    "### Part3\n",
    "$A = \\begin{bmatrix}\n",
    "   1 & 0\\\\\n",
    "   0&2\n",
    "   \\end{bmatrix}$\n",
    "   > $ b = \\begin{bmatrix}\n",
    "   1 \\\\\n",
    "   1\\end{bmatrix}$\n"
   ]
  },
  {
   "cell_type": "code",
   "execution_count": null,
   "metadata": {
    "_uuid": "7143fdae0b1b077dee47f31059122697c420474c"
   },
   "outputs": [],
   "source": [
    "A = np.array([[1, 0], [0, 2]])\n",
    "b = np.array([1, 1]).reshape(2, 1)\n",
    "linearUpdate(A, b, 0.1)"
   ]
  },
  {
   "cell_type": "markdown",
   "metadata": {
    "_uuid": "6ec850a8692598b3d47b4388f43921709cb09a9f"
   },
   "source": [
    "   > $ b = \\begin{bmatrix}\n",
    "   1 \\\\\n",
    "   -1\\end{bmatrix}$"
   ]
  },
  {
   "cell_type": "code",
   "execution_count": null,
   "metadata": {
    "_uuid": "eb6a312cc31a43f6055a167e42ac0a15e7a36ae8"
   },
   "outputs": [],
   "source": [
    "b = np.array([1, -1]).reshape(2, 1)\n",
    "linearUpdate(A, b, 0.1)"
   ]
  },
  {
   "cell_type": "markdown",
   "metadata": {
    "_uuid": "4788c892e3c32f0599e0394de5083310822de6fd"
   },
   "source": [
    "   > $ b = \\begin{bmatrix}\n",
    "   10\\\\\n",
    "   1\\end{bmatrix}$"
   ]
  },
  {
   "cell_type": "code",
   "execution_count": null,
   "metadata": {
    "_uuid": "a7cf07af17c958df22f97fb0b5a6898efc19a5df"
   },
   "outputs": [],
   "source": [
    "b = np.array([10, 1]).reshape(2, 1)\n",
    "linearUpdate(A, b, 0.1)"
   ]
  },
  {
   "cell_type": "markdown",
   "metadata": {
    "_uuid": "7fc403b40452271c495a1273875339b1e5e3a4a3"
   },
   "source": [
    "### Part4\n",
    "$A = \\begin{bmatrix}\n",
    "   1 & 0.1\\\\\n",
    "   -0.1&1\n",
    "   \\end{bmatrix}$\n",
    "   > $b = \\begin{bmatrix}\n",
    "   1 \\\\\n",
    "   1\\end{bmatrix}$\n"
   ]
  },
  {
   "cell_type": "code",
   "execution_count": null,
   "metadata": {
    "_uuid": "eba5f5acb6265610d4cb5e0100770e7d58b5835f"
   },
   "outputs": [],
   "source": [
    "A = np.array([[1, 0.1], [-0.1, 1]])\n",
    "b = np.array([1, 1]).reshape(2, 1)\n",
    "linearUpdate(A, b, 0.1)"
   ]
  },
  {
   "cell_type": "markdown",
   "metadata": {
    "_uuid": "a415bbd02cb7bf8372458a7e305d1b15d0353337"
   },
   "source": [
    "   > $ b = \\begin{bmatrix}\n",
    "   1 \\\\\n",
    "   -1\\end{bmatrix}$"
   ]
  },
  {
   "cell_type": "code",
   "execution_count": null,
   "metadata": {
    "_uuid": "0578966162f5f3c68735768358bcf3a7602801fd"
   },
   "outputs": [],
   "source": [
    "b = np.array([1, -1]).reshape(2, 1)\n",
    "linearUpdate(A, b, 0.1)"
   ]
  },
  {
   "cell_type": "markdown",
   "metadata": {
    "_uuid": "aeadd7129d2112a95e5d1826f9f7ab1d91ac8331"
   },
   "source": [
    "   > $ b = \\begin{bmatrix}\n",
    "   10\\\\\n",
    "   1\\end{bmatrix}$"
   ]
  },
  {
   "cell_type": "code",
   "execution_count": null,
   "metadata": {
    "_uuid": "fa6e0057b1c9dee7faa45df36075c08ae20b514b"
   },
   "outputs": [],
   "source": [
    "b = np.array([10, 1]).reshape(2, 1)\n",
    "linearUpdate(A, b, 0.1)"
   ]
  },
  {
   "cell_type": "markdown",
   "metadata": {
    "_uuid": "abbd99d4e5dfc375504308b06aedae28f5d9fbc5"
   },
   "source": [
    "### Part5\n",
    "$A = \\begin{bmatrix}\n",
    "   1 & 1\\\\\n",
    "   -1&1\n",
    "   \\end{bmatrix}$\n",
    "   > $b = \\begin{bmatrix}\n",
    "   1 \\\\\n",
    "   1\\end{bmatrix}$\n"
   ]
  },
  {
   "cell_type": "code",
   "execution_count": null,
   "metadata": {
    "_uuid": "5a490639804ab7f6b3897d0be714593dd47febf4"
   },
   "outputs": [],
   "source": [
    "np.linalg.eig(A)"
   ]
  },
  {
   "cell_type": "code",
   "execution_count": null,
   "metadata": {
    "_uuid": "b2b73a56fbea98ef80cf14668f0ad926f78c437c"
   },
   "outputs": [],
   "source": [
    "A = np.array([[1, 1], [-1, 1]])\n",
    "b = np.array([1, 1]).reshape(2, 1)\n",
    "linearUpdate(A, b, 0.1)"
   ]
  },
  {
   "cell_type": "markdown",
   "metadata": {
    "_uuid": "4114e39e96f761b80db69789d0a1e293ab4dc843"
   },
   "source": [
    "   > $ b = \\begin{bmatrix}\n",
    "   1 \\\\\n",
    "   -1\\end{bmatrix}$"
   ]
  },
  {
   "cell_type": "code",
   "execution_count": null,
   "metadata": {
    "_uuid": "c9f49874adb1cea07c79b90ff47c40b197940198"
   },
   "outputs": [],
   "source": [
    "b = np.array([1, -1]).reshape(2, 1)\n",
    "linearUpdate(A, b, 0.1)"
   ]
  },
  {
   "cell_type": "markdown",
   "metadata": {
    "_uuid": "8a066dfc0be67189bef7f61f2b12ddb78495082b"
   },
   "source": [
    "   > $ b = \\begin{bmatrix}\n",
    "   10\\\\\n",
    "   1\\end{bmatrix}$"
   ]
  },
  {
   "cell_type": "code",
   "execution_count": null,
   "metadata": {
    "_uuid": "a957b6d63ddcf4e1b03c6073e682631a5b690eb0"
   },
   "outputs": [],
   "source": [
    "b = np.array([10, 1]).reshape(2, 1)\n",
    "linearUpdate(A, b, 0.1)"
   ]
  },
  {
   "cell_type": "markdown",
   "metadata": {
    "_uuid": "90f6979c3590898ce975065ec89157beebb8cb4c"
   },
   "source": [
    "### Part6\n",
    "$A = \\begin{bmatrix}\n",
    "   1 & 10\\\\\n",
    "   -10&1\n",
    "   \\end{bmatrix}$\n",
    "   > $ b = \\begin{bmatrix}\n",
    "   1 \\\\\n",
    "   1\\end{bmatrix}$\n"
   ]
  },
  {
   "cell_type": "code",
   "execution_count": null,
   "metadata": {
    "_uuid": "3a49b6221a937ac697e6483bd07d7dd5f258aa53"
   },
   "outputs": [],
   "source": [
    "np.linalg.eig(A)"
   ]
  },
  {
   "cell_type": "code",
   "execution_count": null,
   "metadata": {
    "_uuid": "028e4ccdab5123bb844458db0d74d09114c22a6a"
   },
   "outputs": [],
   "source": [
    "A = np.array([[1, 10], [-10, 1]])\n",
    "b = np.array([1, 1]).reshape(2, 1)\n",
    "linearUpdate(A, b, 0.01)"
   ]
  },
  {
   "cell_type": "markdown",
   "metadata": {
    "_uuid": "7379c441959abe07c97a0603ab29ea32b07ec810"
   },
   "source": [
    "   > $ b = \\begin{bmatrix}\n",
    "   1 \\\\\n",
    "   -1\\end{bmatrix}$"
   ]
  },
  {
   "cell_type": "code",
   "execution_count": null,
   "metadata": {
    "_uuid": "b60ba189cd102bbb9f68db0f11ee7cc9fd05b4ce"
   },
   "outputs": [],
   "source": [
    "b = np.array([1, -1]).reshape(2, 1)\n",
    "linearUpdate(A, b, 0.1)"
   ]
  },
  {
   "cell_type": "markdown",
   "metadata": {
    "_uuid": "2730613b22f06fc7e590ea3e63cd694dde9c7252"
   },
   "source": [
    "   > $ b = \\begin{bmatrix}\n",
    "   10\\\\\n",
    "   1\\end{bmatrix}$"
   ]
  },
  {
   "cell_type": "code",
   "execution_count": null,
   "metadata": {
    "_uuid": "693788e2a05dcde17b1ca91d2b0526d6721c6c4b"
   },
   "outputs": [],
   "source": [
    "b = np.array([10, 1]).reshape(2, 1)\n",
    "linearUpdate(A, b, 0.1)"
   ]
  },
  {
   "cell_type": "markdown",
   "metadata": {
    "_uuid": "571065ace64358c2103b81a98aeb74ddb8b037c8"
   },
   "source": [
    "### Part7\n",
    "$A = \\begin{bmatrix}\n",
    "   1 & 10\\\\\n",
    "   10&1\n",
    "   \\end{bmatrix}$\n",
    "   > $b = \\begin{bmatrix}\n",
    "   1 \\\\\n",
    "   1\\end{bmatrix}$\n"
   ]
  },
  {
   "cell_type": "code",
   "execution_count": null,
   "metadata": {
    "_uuid": "3b5101e81af52e478d77c7ee67d26e9bd30eace6"
   },
   "outputs": [],
   "source": [
    "A = np.array([[1, 10], [10, 1]])\n",
    "b = np.array([1, 1]).reshape(2, 1)\n",
    "linearUpdate(A, b, 0.1)"
   ]
  },
  {
   "cell_type": "markdown",
   "metadata": {
    "_uuid": "f54d5f76faeb62f1dbb0e2d23eb3e30dbf5ee8f5"
   },
   "source": [
    "   > $ b = \\begin{bmatrix}\n",
    "   1 \\\\\n",
    "   -1\\end{bmatrix}$"
   ]
  },
  {
   "cell_type": "code",
   "execution_count": null,
   "metadata": {
    "_uuid": "8d9a64e8f90c5d679ef946b82246faf18e72725a"
   },
   "outputs": [],
   "source": [
    "b = np.array([1, -1]).reshape(2, 1)\n",
    "linearUpdate(A, b, 0.1)"
   ]
  },
  {
   "cell_type": "markdown",
   "metadata": {
    "_uuid": "267e2de4c9c6efc12e6e493a739e082375d57d04"
   },
   "source": [
    "   > $ b = \\begin{bmatrix}\n",
    "   10\\\\\n",
    "   1\\end{bmatrix}$"
   ]
  },
  {
   "cell_type": "code",
   "execution_count": null,
   "metadata": {
    "_uuid": "fc99fd58b246f87c50ab0d6cabce461ebd530fc9"
   },
   "outputs": [],
   "source": [
    "b = np.array([10, 1]).reshape(2, 1)\n",
    "linearUpdate(A, b, 0.1)"
   ]
  },
  {
   "cell_type": "markdown",
   "metadata": {
    "_uuid": "d6311c86eb6ce6681a075bee36e1dc2fadfa17ba"
   },
   "source": [
    "### Part8\n",
    "$A = \\begin{bmatrix}\n",
    "   1 & 0.1\\\\\n",
    "   0.1&1\n",
    "   \\end{bmatrix}$\n",
    "   > $ b = \\begin{bmatrix}\n",
    "   1 \\\\\n",
    "   1\\end{bmatrix}$\n"
   ]
  },
  {
   "cell_type": "code",
   "execution_count": null,
   "metadata": {
    "_uuid": "528e436405570bf46ee42bc7535362ca98410b43"
   },
   "outputs": [],
   "source": [
    "A = np.array([[1, 0.1], [0.1, 1]])\n",
    "b = np.array([1, 1]).reshape(2, 1)\n",
    "linearUpdate(A, b, 0.1)"
   ]
  },
  {
   "cell_type": "markdown",
   "metadata": {
    "_uuid": "739ced2c7fac7a34e0ed763239de05a559cdc364"
   },
   "source": [
    "   > $ b = \\begin{bmatrix}\n",
    "   1 \\\\\n",
    "   -1\\end{bmatrix}$"
   ]
  },
  {
   "cell_type": "code",
   "execution_count": null,
   "metadata": {
    "_uuid": "5e1b0752ece0c81c2fc42b5da23576e89040cdab"
   },
   "outputs": [],
   "source": [
    "b = np.array([1, -1]).reshape(2, 1)\n",
    "linearUpdate(A, b, 0.1)"
   ]
  },
  {
   "cell_type": "markdown",
   "metadata": {
    "_uuid": "9dba199bc5c6b5c976e827a0c07ae89afe8821be"
   },
   "source": [
    "   > $ b = \\begin{bmatrix}\n",
    "   10\\\\\n",
    "   1\\end{bmatrix}$"
   ]
  },
  {
   "cell_type": "code",
   "execution_count": null,
   "metadata": {
    "_uuid": "64a8c794c7f5beb5615803042369bff273926457"
   },
   "outputs": [],
   "source": [
    "b = np.array([10, 1]).reshape(2, 1)\n",
    "linearUpdate(A, b, 0.1)"
   ]
  },
  {
   "cell_type": "code",
   "execution_count": null,
   "metadata": {
    "_uuid": "a6f905dc0a9d7b508f9baf4a0b9797cba0a6a7fa"
   },
   "outputs": [],
   "source": []
  },
  {
   "cell_type": "code",
   "execution_count": null,
   "metadata": {
    "_uuid": "d2eef0a2b1f2cc57d06286519cc3c4207eb0516c"
   },
   "outputs": [],
   "source": []
  },
  {
   "cell_type": "code",
   "execution_count": null,
   "metadata": {
    "_uuid": "ff86baae26f7ba3f494acdcacbde895dcb0d3aec"
   },
   "outputs": [],
   "source": []
  }
 ],
 "metadata": {
  "kernelspec": {
   "display_name": "Python 3",
   "language": "python",
   "name": "python3"
  },
  "language_info": {
   "codemirror_mode": {
    "name": "ipython",
    "version": 3
   },
   "file_extension": ".py",
   "mimetype": "text/x-python",
   "name": "python",
   "nbconvert_exporter": "python",
   "pygments_lexer": "ipython3",
   "version": "3.6.4"
  }
 },
 "nbformat": 4,
 "nbformat_minor": 1
}
