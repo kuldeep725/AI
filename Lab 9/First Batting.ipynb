{
 "cells": [
  {
   "cell_type": "markdown",
   "metadata": {},
   "source": [
    "### Lab 09\n",
    "#### Problem: Batting First\n",
    "##### Members:\n",
    "        1. Amit Vikram Singh(111601001)\n",
    "        2. Kuldeep Singh Bhandari(111601009\n",
    "#### Logic :\n",
    "> We are applying bottom-up approach to find the optimal value and optimal policy for batting first problem. This is **Value Iteration** technique using Dynamic Programming (here we are storing answer to sub-problems in tabular fashion). We are beginning with **\"0 balls left and {0-10} wickets left\"** scenario and building up using previous results to find the answer for **\"300 balls left and 10 wickets left\"** scenario."
   ]
  },
  {
   "cell_type": "code",
   "execution_count": 9,
   "metadata": {},
   "outputs": [],
   "source": [
    "import numpy as np\n",
    "import sys"
   ]
  },
  {
   "cell_type": "markdown",
   "metadata": {},
   "source": [
    "## Define State"
   ]
  },
  {
   "cell_type": "code",
   "execution_count": 8,
   "metadata": {},
   "outputs": [],
   "source": [
    "class State :\n",
    "    def __init__(self, balls_left, wickets_left) :\n",
    "        self.balls_left = balls_left\n",
    "        self.wickets_left = wickets_left\n",
    "        \n",
    "class Environment :\n",
    "    def __init__(self, pr_min, pr_max, pw_min, pw_max) :\n",
    "        self.pr_min = pr_min\n",
    "        self.pr_max = pr_max\n",
    "        self.pw_min = pw_min\n",
    "        self.pw_max = pw_max\n",
    "        self.TOT_BALLS = 301\n",
    "        self.V = np.zeros((self.TOT_BALLS, 11))    # value function\n",
    "        self.policy = np.zeros((self.TOT_BALLS, 11))   # policy function\n",
    "        self.actionList = [1, 2, 3, 4, 6]\n",
    "        self.Prob_out = [ {self.actionList[j] : self.getWicketProb(i, j) for j in range(5)} for i in range(10) ]\n",
    "        self.Prob_run = [ self.getRunProb(i) for i in range(10) ]\n",
    "        \n",
    "    def getWicketProb (self, i, j) :\n",
    "        return self.pw_max[j] + ((self.pw_min[j] - self.pw_max[j])*((i-1)/9))\n",
    "        \n",
    "    def getRunProb (self, x) :\n",
    "        return self.pr_min + ((self.pr_max - self.pr_min)*((x-1)/9))\n",
    "    \n",
    "    def Bellmann (self, i, j) :\n",
    "        max_val = 0\n",
    "        bestAction = 0\n",
    "        for action in self.actionList :\n",
    "            p_out = self.Prob_out[j-1][action]\n",
    "            p_run = self.Prob_run[j-1]\n",
    "            val = (1 - p_out)*(p_run * action + self.V[i-1][j]) + (p_out * self.V[i-1][j-1])\n",
    "            if(val > max_val) :\n",
    "                max_val = val\n",
    "                bestAction = action\n",
    "        return max_val, bestAction\n",
    "        \n",
    "    def ValueIteration(self) :\n",
    "        for i in range(1, self.TOT_BALLS) :\n",
    "            for j in range(1, 11) :\n",
    "                self.V[i][j], self.policy[i][j] = self.Bellmann (i, j)"
   ]
  },
  {
   "cell_type": "markdown",
   "metadata": {},
   "source": [
    "## Driver Code"
   ]
  },
  {
   "cell_type": "code",
   "execution_count": 10,
   "metadata": {},
   "outputs": [
    {
     "name": "stdout",
     "output_type": "stream",
     "text": [
      "Saving Values in file Value.txt...\n",
      "Saving Policies in file Policy.txt...\n"
     ]
    }
   ],
   "source": [
    "pw_min = [0.01, 0.02, 0.03, 0.1, 0.3]\n",
    "pw_max = [0.1, 0.2, 0.3, 0.5, 0.7]\n",
    "envObj = Environment(0.5, 0.8, pw_min, pw_max)\n",
    "envObj.ValueIteration()\n",
    "print(\"Saving Values in file Value.txt...\")\n",
    "print(\"Saving Policies in file Policy.txt...\")\n",
    "np.savetxt(\"Value.txt\", envObj.V, fmt=\"%5.2f\")\n",
    "np.savetxt(\"Policy.txt\", envObj.policy, fmt=\"%d\")"
   ]
  }
 ],
 "metadata": {
  "kernelspec": {
   "display_name": "Python 3",
   "language": "python",
   "name": "python3"
  },
  "language_info": {
   "codemirror_mode": {
    "name": "ipython",
    "version": 3
   },
   "file_extension": ".py",
   "mimetype": "text/x-python",
   "name": "python",
   "nbconvert_exporter": "python",
   "pygments_lexer": "ipython3",
   "version": "3.6.4"
  }
 },
 "nbformat": 4,
 "nbformat_minor": 2
}
