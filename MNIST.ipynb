{
  "nbformat": 4,
  "nbformat_minor": 0,
  "metadata": {
    "colab": {
      "name": "MNIST",
      "provenance": [],
      "collapsed_sections": [],
      "include_colab_link": true
    },
    "kernelspec": {
      "name": "python3",
      "display_name": "Python 3"
    },
    "accelerator": "TPU"
  },
  "cells": [
    {
      "cell_type": "markdown",
      "metadata": {
        "id": "view-in-github",
        "colab_type": "text"
      },
      "source": [
        "<a href=\"https://colab.research.google.com/github/kuldeep725/AI/blob/master/MNIST.ipynb\" target=\"_parent\"><img src=\"https://colab.research.google.com/assets/colab-badge.svg\" alt=\"Open In Colab\"/></a>"
      ]
    },
    {
      "cell_type": "code",
      "metadata": {
        "id": "VL7wTr-wZK7i",
        "colab_type": "code",
        "colab": {}
      },
      "source": [
        "import numpy as np\n",
        "import matplotlib.pyplot as plt\n",
        "import keras\n",
        "from keras.datasets import mnist\n",
        "from sklearn.model_selection import train_test_split\n",
        "from keras.models import Sequential\n",
        "from keras.layers import Dense\n",
        "from keras import losses, optimizers\n",
        "from sklearn.preprocessing import Normalizer"
      ],
      "execution_count": 0,
      "outputs": []
    },
    {
      "cell_type": "code",
      "metadata": {
        "id": "64f7Z3J78Pho",
        "colab_type": "code",
        "colab": {}
      },
      "source": [
        "batch_size = 128\n",
        "num_classes = 10\n",
        "epochs = 12"
      ],
      "execution_count": 0,
      "outputs": []
    },
    {
      "cell_type": "code",
      "metadata": {
        "id": "Aa-2wjZnZV3_",
        "colab_type": "code",
        "colab": {
          "base_uri": "https://localhost:8080/",
          "height": 35
        },
        "outputId": "364c50dd-7fb8-405b-ff09-2a6cb5cd5065"
      },
      "source": [
        "(x_train, y_train), (x_test, y_test) = mnist.load_data()\n",
        "image_vector_size = x_train.shape[1]*x_train.shape[2]\n",
        "X_tot = x_train.reshape(x_train.shape[0], image_vector_size)\n",
        "x_train.shape, y_train.shape, x_test.shape, y_test.shape"
      ],
      "execution_count": 106,
      "outputs": [
        {
          "output_type": "execute_result",
          "data": {
            "text/plain": [
              "((60000, 28, 28), (60000,), (10000, 28, 28), (10000,))"
            ]
          },
          "metadata": {
            "tags": []
          },
          "execution_count": 106
        }
      ]
    },
    {
      "cell_type": "code",
      "metadata": {
        "id": "bqYsLqDseefy",
        "colab_type": "code",
        "colab": {
          "base_uri": "https://localhost:8080/",
          "height": 35
        },
        "outputId": "2fecc872-eb46-4b95-99f1-5651d67e652a"
      },
      "source": [
        "x_train, x_val, y_train, y_val = train_test_split(x_train, y_train, test_size=0.083333, random_state=42)\n",
        "x_train.shape, y_train.shape, x_val.shape, y_val.shape"
      ],
      "execution_count": 107,
      "outputs": [
        {
          "output_type": "execute_result",
          "data": {
            "text/plain": [
              "((55000, 28, 28), (55000,), (5000, 28, 28), (5000,))"
            ]
          },
          "metadata": {
            "tags": []
          },
          "execution_count": 107
        }
      ]
    },
    {
      "cell_type": "code",
      "metadata": {
        "id": "Q-EAd17eOTRn",
        "colab_type": "code",
        "colab": {}
      },
      "source": [
        "# Flatten the images\n",
        "x_train = x_train.reshape(x_train.shape[0], image_vector_size)\n",
        "x_val = x_val.reshape(x_val.shape[0], image_vector_size)\n",
        "x_test = x_test.reshape(x_test.shape[0], image_vector_size)\n",
        "\n",
        "# Convert to \"one-hot\" vectors using the to_categorical function\n",
        "y_train = keras.utils.to_categorical(y_train, num_classes)\n",
        "y_val = keras.utils.to_categorical(y_val, num_classes)\n",
        "y_test = keras.utils.to_categorical(y_test, num_classes)"
      ],
      "execution_count": 0,
      "outputs": []
    },
    {
      "cell_type": "markdown",
      "metadata": {
        "id": "0rUiFFlPfNL_",
        "colab_type": "text"
      },
      "source": [
        "### (c) Classify the dataset using a feed-forward neural network. Vary the hyperparameters as follows:"
      ]
    },
    {
      "cell_type": "code",
      "metadata": {
        "id": "XaAebdIPnJ7u",
        "colab_type": "code",
        "colab": {}
      },
      "source": [
        "def build_model(layer_sizes) :\n",
        "  model = Sequential()\n",
        "  input_shape = (image_vector_size,)\n",
        "  model.add(Dense(layer_sizes[0], input_shape=input_shape, activation='sigmoid'))\n",
        "  for size in layer_sizes[1:] :\n",
        "    model.add(Dense(size, activation='sigmoid'))\n",
        "  model.add(Dense(num_classes, activation='softmax'))\n",
        "  return model\n",
        "\n",
        "def evaluate_network(model=None, batch_size=batch_size, epochs=epochs, x_train=x_train, x_val=x_val,\n",
        "                     x_test=x_test, y_test=y_test) :\n",
        "  sgd = optimizers.SGD(lr=0.1)\n",
        "  model.compile(loss=losses.categorical_crossentropy,\n",
        "            optimizer=sgd,\n",
        "            metrics=['accuracy'])\n",
        "  model.fit(x_train, y_train, batch_size=batch_size, epochs=epochs, verbose=1, validation_data=(x_val, y_val))\n",
        "  score = model.evaluate(x_test, y_test, verbose=0)\n",
        "  return score"
      ],
      "execution_count": 0,
      "outputs": []
    },
    {
      "cell_type": "markdown",
      "metadata": {
        "id": "ZzBdTbiO0Q6V",
        "colab_type": "text"
      },
      "source": [
        "# Part (i)"
      ]
    },
    {
      "cell_type": "code",
      "metadata": {
        "id": "7QgNWvuz0TfS",
        "colab_type": "code",
        "colab": {
          "base_uri": "https://localhost:8080/",
          "height": 484
        },
        "outputId": "c9f39e26-3ebe-46f6-fe1d-3c21b780db2f"
      },
      "source": [
        "model = build_model([32])\n",
        "score = evaluate_network(model=model)\n",
        "\n",
        "print('Test loss:', score[0])\n",
        "print('Test accuracy:', score[1])"
      ],
      "execution_count": 110,
      "outputs": [
        {
          "output_type": "stream",
          "text": [
            "Train on 55000 samples, validate on 5000 samples\n",
            "Epoch 1/12\n",
            "55000/55000 [==============================] - 2s 36us/step - loss: 0.9986 - acc: 0.7281 - val_loss: 0.6775 - val_acc: 0.8166\n",
            "Epoch 2/12\n",
            "55000/55000 [==============================] - 1s 20us/step - loss: 0.6391 - acc: 0.8194 - val_loss: 0.6244 - val_acc: 0.8212\n",
            "Epoch 3/12\n",
            "55000/55000 [==============================] - 1s 20us/step - loss: 0.5715 - acc: 0.8318 - val_loss: 0.6728 - val_acc: 0.7782\n",
            "Epoch 4/12\n",
            "55000/55000 [==============================] - 1s 19us/step - loss: 0.5663 - acc: 0.8325 - val_loss: 0.5373 - val_acc: 0.8384\n",
            "Epoch 5/12\n",
            "55000/55000 [==============================] - 1s 19us/step - loss: 0.5343 - acc: 0.8451 - val_loss: 0.5740 - val_acc: 0.8336\n",
            "Epoch 6/12\n",
            "55000/55000 [==============================] - 1s 19us/step - loss: 0.5131 - acc: 0.8490 - val_loss: 0.4883 - val_acc: 0.8564\n",
            "Epoch 7/12\n",
            "55000/55000 [==============================] - 1s 19us/step - loss: 0.4845 - acc: 0.8553 - val_loss: 0.4924 - val_acc: 0.8456\n",
            "Epoch 8/12\n",
            "55000/55000 [==============================] - 1s 19us/step - loss: 0.4991 - acc: 0.8471 - val_loss: 0.5189 - val_acc: 0.8404\n",
            "Epoch 9/12\n",
            "55000/55000 [==============================] - 1s 18us/step - loss: 0.4794 - acc: 0.8557 - val_loss: 0.4956 - val_acc: 0.8570\n",
            "Epoch 10/12\n",
            "55000/55000 [==============================] - 1s 19us/step - loss: 0.5096 - acc: 0.8437 - val_loss: 0.5511 - val_acc: 0.8228\n",
            "Epoch 11/12\n",
            "55000/55000 [==============================] - 1s 19us/step - loss: 0.4757 - acc: 0.8569 - val_loss: 0.4486 - val_acc: 0.8630\n",
            "Epoch 12/12\n",
            "55000/55000 [==============================] - 1s 18us/step - loss: 0.4622 - acc: 0.8587 - val_loss: 0.4875 - val_acc: 0.8460\n",
            "Test loss: 0.4679388967037201\n",
            "Test accuracy: 0.8537\n"
          ],
          "name": "stdout"
        }
      ]
    },
    {
      "cell_type": "markdown",
      "metadata": {
        "id": "VYAo_zQxbwae",
        "colab_type": "text"
      },
      "source": [
        "# Part (ii)"
      ]
    },
    {
      "cell_type": "code",
      "metadata": {
        "id": "8U6muUyD0_Qc",
        "colab_type": "code",
        "colab": {
          "base_uri": "https://localhost:8080/",
          "height": 484
        },
        "outputId": "0446eb4b-4162-47d3-fc9e-9698a9bd0bc2"
      },
      "source": [
        "transformer = Normalizer().fit(X_tot)\n",
        "x_train_normalized = transformer.transform(x_train)\n",
        "x_val_normalized = transformer.transform(x_val)\n",
        "\n",
        "model_normalized = build_model([32])\n",
        "score = evaluate_network(model=model_normalized, x_train=x_train_normalized, x_val=x_val_normalized)\n",
        "\n",
        "print('Normalized Test loss:', score[0])\n",
        "print('Normalized Test accuracy:', score[1])\n"
      ],
      "execution_count": 111,
      "outputs": [
        {
          "output_type": "stream",
          "text": [
            "Train on 55000 samples, validate on 5000 samples\n",
            "Epoch 1/12\n",
            "55000/55000 [==============================] - 2s 33us/step - loss: 2.2717 - acc: 0.1979 - val_loss: 2.2300 - val_acc: 0.3706\n",
            "Epoch 2/12\n",
            "55000/55000 [==============================] - 1s 20us/step - loss: 2.1643 - acc: 0.4193 - val_loss: 2.0836 - val_acc: 0.4474\n",
            "Epoch 3/12\n",
            "55000/55000 [==============================] - 1s 21us/step - loss: 1.9536 - acc: 0.5398 - val_loss: 1.8158 - val_acc: 0.5442\n",
            "Epoch 4/12\n",
            "55000/55000 [==============================] - 1s 21us/step - loss: 1.6512 - acc: 0.6296 - val_loss: 1.5040 - val_acc: 0.6720\n",
            "Epoch 5/12\n",
            "55000/55000 [==============================] - 1s 21us/step - loss: 1.3593 - acc: 0.6884 - val_loss: 1.2431 - val_acc: 0.7258\n",
            "Epoch 6/12\n",
            "55000/55000 [==============================] - 1s 21us/step - loss: 1.1312 - acc: 0.7360 - val_loss: 1.0486 - val_acc: 0.7688\n",
            "Epoch 7/12\n",
            "55000/55000 [==============================] - 1s 21us/step - loss: 0.9667 - acc: 0.7721 - val_loss: 0.9087 - val_acc: 0.7892\n",
            "Epoch 8/12\n",
            "55000/55000 [==============================] - 1s 22us/step - loss: 0.8481 - acc: 0.7965 - val_loss: 0.8066 - val_acc: 0.8068\n",
            "Epoch 9/12\n",
            "55000/55000 [==============================] - 1s 22us/step - loss: 0.7606 - acc: 0.8143 - val_loss: 0.7311 - val_acc: 0.8154\n",
            "Epoch 10/12\n",
            "55000/55000 [==============================] - 1s 22us/step - loss: 0.6941 - acc: 0.8275 - val_loss: 0.6713 - val_acc: 0.8334\n",
            "Epoch 11/12\n",
            "55000/55000 [==============================] - 1s 21us/step - loss: 0.6420 - acc: 0.8392 - val_loss: 0.6245 - val_acc: 0.8432\n",
            "Epoch 12/12\n",
            "55000/55000 [==============================] - 1s 22us/step - loss: 0.6004 - acc: 0.8470 - val_loss: 0.5864 - val_acc: 0.8486\n",
            "Normalized Test loss: 0.9499517813563347\n",
            "Normalized Test accuracy: 0.7755\n"
          ],
          "name": "stdout"
        }
      ]
    },
    {
      "cell_type": "markdown",
      "metadata": {
        "id": "DL1YMAbrZ92x",
        "colab_type": "text"
      },
      "source": [
        "### Conclusion of Part (ii)\n",
        "Since the time taken by normalized version is more and also the accuracy is lesser than the unnormalized version, we will stick \n",
        "with the unnormalized version"
      ]
    },
    {
      "cell_type": "markdown",
      "metadata": {
        "id": "hH9FzzM3fScB",
        "colab_type": "text"
      },
      "source": [
        "# Part (iii) "
      ]
    },
    {
      "cell_type": "code",
      "metadata": {
        "id": "S9uMgYHzfYOn",
        "colab_type": "code",
        "colab": {
          "base_uri": "https://localhost:8080/",
          "height": 950
        },
        "outputId": "4a2a427f-a756-4f68-9271-b19a0d5b9d02"
      },
      "source": [
        "deepmodel2 = build_model([32, 32])\n",
        "deepmodel3 = build_model([32, 32, 32])\n",
        "score2 = evaluate_network(model=deepmodel2)\n",
        "score3 = evaluate_network(model=deepmodel3)\n",
        "\n",
        "print('With 2 hidden layers, Test loss:', score2[0])\n",
        "print('with 2 hidden layers, Test accuracy:', score2[1])\n",
        "\n",
        "print('With 3 hidden layers, Test loss:', score3[0])\n",
        "print('with 3 hidden layers, Test accuracy:', score3[1])"
      ],
      "execution_count": 112,
      "outputs": [
        {
          "output_type": "stream",
          "text": [
            "Train on 55000 samples, validate on 5000 samples\n",
            "Epoch 1/12\n",
            "55000/55000 [==============================] - 2s 33us/step - loss: 1.4564 - acc: 0.6657 - val_loss: 0.8947 - val_acc: 0.7938\n",
            "Epoch 2/12\n",
            "55000/55000 [==============================] - 1s 19us/step - loss: 0.7406 - acc: 0.8158 - val_loss: 0.6307 - val_acc: 0.8358\n",
            "Epoch 3/12\n",
            "55000/55000 [==============================] - 1s 18us/step - loss: 0.6236 - acc: 0.8309 - val_loss: 0.6336 - val_acc: 0.8238\n",
            "Epoch 4/12\n",
            "55000/55000 [==============================] - 1s 19us/step - loss: 0.5849 - acc: 0.8315 - val_loss: 0.5343 - val_acc: 0.8388\n",
            "Epoch 5/12\n",
            "55000/55000 [==============================] - 1s 19us/step - loss: 0.5488 - acc: 0.8366 - val_loss: 0.6082 - val_acc: 0.8094\n",
            "Epoch 6/12\n",
            "55000/55000 [==============================] - 1s 19us/step - loss: 0.5248 - acc: 0.8454 - val_loss: 0.5196 - val_acc: 0.8472\n",
            "Epoch 7/12\n",
            "55000/55000 [==============================] - 1s 18us/step - loss: 0.4925 - acc: 0.8509 - val_loss: 0.4818 - val_acc: 0.8508\n",
            "Epoch 8/12\n",
            "55000/55000 [==============================] - 1s 18us/step - loss: 0.5072 - acc: 0.8438 - val_loss: 0.4996 - val_acc: 0.8462\n",
            "Epoch 9/12\n",
            "55000/55000 [==============================] - 1s 18us/step - loss: 0.4931 - acc: 0.8517 - val_loss: 0.4720 - val_acc: 0.8616\n",
            "Epoch 10/12\n",
            "55000/55000 [==============================] - 1s 18us/step - loss: 0.4560 - acc: 0.8645 - val_loss: 0.4348 - val_acc: 0.8654\n",
            "Epoch 11/12\n",
            "55000/55000 [==============================] - 1s 18us/step - loss: 0.4304 - acc: 0.8710 - val_loss: 0.4606 - val_acc: 0.8558\n",
            "Epoch 12/12\n",
            "55000/55000 [==============================] - 1s 18us/step - loss: 0.4588 - acc: 0.8612 - val_loss: 0.4188 - val_acc: 0.8764\n",
            "Train on 55000 samples, validate on 5000 samples\n",
            "Epoch 1/12\n",
            "55000/55000 [==============================] - 2s 34us/step - loss: 2.1376 - acc: 0.3062 - val_loss: 1.7802 - val_acc: 0.4918\n",
            "Epoch 2/12\n",
            "55000/55000 [==============================] - 1s 20us/step - loss: 1.4158 - acc: 0.5485 - val_loss: 1.2112 - val_acc: 0.6154\n",
            "Epoch 3/12\n",
            "55000/55000 [==============================] - 1s 21us/step - loss: 1.0756 - acc: 0.6824 - val_loss: 1.0502 - val_acc: 0.6944\n",
            "Epoch 4/12\n",
            "55000/55000 [==============================] - 1s 25us/step - loss: 0.9289 - acc: 0.7300 - val_loss: 0.8176 - val_acc: 0.7704\n",
            "Epoch 5/12\n",
            "55000/55000 [==============================] - 1s 24us/step - loss: 0.8536 - acc: 0.7421 - val_loss: 0.7691 - val_acc: 0.7700\n",
            "Epoch 6/12\n",
            "55000/55000 [==============================] - 1s 25us/step - loss: 0.7425 - acc: 0.7757 - val_loss: 0.7620 - val_acc: 0.7718\n",
            "Epoch 7/12\n",
            "55000/55000 [==============================] - 1s 24us/step - loss: 0.7022 - acc: 0.7822 - val_loss: 0.6930 - val_acc: 0.7922\n",
            "Epoch 8/12\n",
            "55000/55000 [==============================] - 1s 19us/step - loss: 0.6577 - acc: 0.7990 - val_loss: 0.6248 - val_acc: 0.8116\n",
            "Epoch 9/12\n",
            "55000/55000 [==============================] - 1s 19us/step - loss: 0.6804 - acc: 0.7830 - val_loss: 0.6562 - val_acc: 0.7864\n",
            "Epoch 10/12\n",
            "55000/55000 [==============================] - 1s 18us/step - loss: 0.6239 - acc: 0.8086 - val_loss: 0.6771 - val_acc: 0.7858\n",
            "Epoch 11/12\n",
            "55000/55000 [==============================] - 1s 19us/step - loss: 0.6056 - acc: 0.8142 - val_loss: 0.5897 - val_acc: 0.8232\n",
            "Epoch 12/12\n",
            "55000/55000 [==============================] - 1s 19us/step - loss: 0.5791 - acc: 0.8221 - val_loss: 0.6106 - val_acc: 0.8068\n",
            "With 2 hidden layers, Test loss: 0.41404671506881713\n",
            "with 2 hidden layers, Test accuracy: 0.8784\n",
            "With 3 hidden layers, Test loss: 0.5874991501808167\n",
            "with 3 hidden layers, Test accuracy: 0.8156\n"
          ],
          "name": "stdout"
        }
      ]
    },
    {
      "cell_type": "markdown",
      "metadata": {
        "id": "RhTaWXsnhuFv",
        "colab_type": "text"
      },
      "source": [
        "### Conclusion of Part (iii)\n",
        "Accuracy for "
      ]
    }
  ]
}