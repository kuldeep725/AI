{
 "cells": [
  {
   "cell_type": "code",
   "execution_count": 1,
   "metadata": {},
   "outputs": [],
   "source": [
    "import math, random, string\n",
    "import numpy as np\n"
   ]
  },
  {
   "cell_type": "code",
   "execution_count": 32,
   "metadata": {},
   "outputs": [],
   "source": [
    "population_size = 50   # N = 50, 100, 200\n",
    "cross_over_prob = 0.2  # 0.2, 0.3\n",
    "mutation_prob = 0.01  # 0.01, 0.05"
   ]
  },
  {
   "cell_type": "code",
   "execution_count": 3,
   "metadata": {},
   "outputs": [],
   "source": [
    "def diff(s) :\n",
    "    sum = 0\n",
    "    first = int(s, 2)**2\n",
    "    second = (int(s, 2)-2)**2\n",
    "    return math.sqrt(first + second)"
   ]
  },
  {
   "cell_type": "code",
   "execution_count": 4,
   "metadata": {},
   "outputs": [],
   "source": [
    "def f1(s) :\n",
    "    return null"
   ]
  },
  {
   "cell_type": "code",
   "execution_count": 5,
   "metadata": {},
   "outputs": [],
   "source": [
    "def getRandomString(N) :\n",
    "    # s = ''.join(random.SystemRandom().choice(string.ascii_lowercase + string.ascii_uppercase + string.digits) for _ in range(N))\n",
    "    # return s.replace('[0-9]', ' ')\n",
    "    s = \"\"\n",
    "    for i in range(N) :\n",
    "        s += str(np.random.randint(2))\n",
    "    return s"
   ]
  },
  {
   "cell_type": "code",
   "execution_count": 6,
   "metadata": {},
   "outputs": [],
   "source": [
    "# selection\n",
    "def selection(offsprings) :\n",
    "    best = None\n",
    "    best2 = None\n",
    "    min_val = 1e8\n",
    "    min_val2 = 1e8\n",
    "    for offspring in offsprings : \n",
    "        val = diff(offspring)\n",
    "        if(val < min_val) :\n",
    "            min_val = val\n",
    "            best = offspring\n",
    "        elif(val < min_val2) :\n",
    "            min_val2 = val\n",
    "            best2 = offspring\n",
    "\n",
    "    if(best2 == None) : best2 = best\n",
    "    return best, best2\n",
    "\n",
    "# single point crossover\n",
    "def crossover(s1, s2) :\n",
    "    l1 = np.random.randint(len(s1))\n",
    "    l2 = np.random.randint(len(s1))\n",
    "    offspring1 = s1[:l1] + s2[l1:]\n",
    "    offspring2 = s2[:l2] + s1[l2:]\n",
    "    return offspring1, offspring2\n",
    "\n",
    "# mutation\n",
    "def mutation(s) :\n",
    "    rand_index = np.random.randint(len(s))\n",
    "    sList = list(s)\n",
    "    # sList[rand_index1], sList[rand_index2] = sList[rand_index2], sList[rand_index1]\n",
    "    if(sList[rand_index] == '1'):\n",
    "        sList[rand_index] = '0'\n",
    "    else :\n",
    "        sList[rand_index] = '1'\n",
    "    return ''.join(sList)\n",
    "\n",
    "\n",
    "def v(s1, s2) :\n",
    "    if(np.random.rand() >= 0.5) :\n",
    "        s1, s2 = crossover(s1, s2)\n",
    "\n",
    "    populations = []\n",
    "    for i in range(population_size) :\n",
    "        if(np.random.rand() >= 0.5) :\n",
    "            populations.append(mutation(s1))\n",
    "        else :\n",
    "            populations.append(s1)\n",
    "        if(np.random.rand() >= 0.5) :\n",
    "            populations.append(mutation(s2))\n",
    "        else :\n",
    "            populations.append(s2)\n",
    "\n",
    "    return selection(populations)"
   ]
  },
  {
   "cell_type": "code",
   "execution_count": 30,
   "metadata": {},
   "outputs": [],
   "source": [
    "def getValidNumber() :\n",
    "    s1 = getRandomString(2)\n",
    "    while(int(s1, 2) == 3) :\n",
    "        s1 = getRandomString(2)\n",
    "    s2 = getRandomString(7)\n",
    "    while(int(s2, 2) >= 100) :\n",
    "        s2 = getRandomString(2)\n",
    "    return s1 + \".\" + s2"
   ]
  },
  {
   "cell_type": "code",
   "execution_count": 31,
   "metadata": {},
   "outputs": [
    {
     "data": {
      "text/plain": [
       "['10.0110000', '01.0101011', '10.0100011', '00.10', '00.0100110']"
      ]
     },
     "execution_count": 31,
     "metadata": {},
     "output_type": "execute_result"
    }
   ],
   "source": [
    "x = [getValidNumber() for i in range(5)]\n",
    "x"
   ]
  },
  {
   "cell_type": "code",
   "execution_count": 24,
   "metadata": {},
   "outputs": [
    {
     "data": {
      "text/plain": [
       "3"
      ]
     },
     "execution_count": 24,
     "metadata": {},
     "output_type": "execute_result"
    }
   ],
   "source": [
    "s1 = getRandomString(2)\n",
    "int(s1, 2)"
   ]
  },
  {
   "cell_type": "code",
   "execution_count": 29,
   "metadata": {},
   "outputs": [
    {
     "data": {
      "text/plain": [
       "4.4"
      ]
     },
     "execution_count": 29,
     "metadata": {},
     "output_type": "execute_result"
    }
   ],
   "source": []
  }
 ],
 "metadata": {
  "kernelspec": {
   "display_name": "Python 3",
   "language": "python",
   "name": "python3"
  },
  "language_info": {
   "codemirror_mode": {
    "name": "ipython",
    "version": 3
   },
   "file_extension": ".py",
   "mimetype": "text/x-python",
   "name": "python",
   "nbconvert_exporter": "python",
   "pygments_lexer": "ipython3",
   "version": "3.6.4"
  }
 },
 "nbformat": 4,
 "nbformat_minor": 2
}
