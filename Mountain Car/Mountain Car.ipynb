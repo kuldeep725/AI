{
 "cells": [
  {
   "cell_type": "code",
   "execution_count": 110,
   "metadata": {},
   "outputs": [],
   "source": [
    "import numpy as np\n",
    "from bisect import bisect_left\n",
    "import matplotlib.pyplot as plt"
   ]
  },
  {
   "cell_type": "code",
   "execution_count": 111,
   "metadata": {},
   "outputs": [],
   "source": [
    "class Environment :\n",
    "    def __init__(self, M, gamma, pos, vel) :\n",
    "        self.M = M\n",
    "        self.m = M.shape[0]\n",
    "        self.n = M.shape[1]\n",
    "        self.gamma = gamma\n",
    "        self.actionList = [-1, 0, 1]\n",
    "        self.pos = pos\n",
    "        self.vel = vel\n",
    "    \n",
    "        self.R = -1.0*np.ones((self.m, self.n))\n",
    "        self.R[self.m-1, :] = 0\n",
    "#         self.currRow = bisect_left(pos, curr[0])\n",
    "#         self.currCol = bisect_left(vel, curr[1])\n",
    "        self.V = np.zeros(self.R.shape)\n",
    "        self.policy = np.array(np.empty(self.R.shape), dtype=np.int64)\n",
    "        self.policy[:] = -1\n",
    "        \n",
    "    def getVel(self, pos, vel, action) :\n",
    "        return (vel + (action * 0.001) + (np.cos(3*pos) * (-0.0025)))\n",
    "    \n",
    "    def getPos(self, pos, vel) :\n",
    "        return (vel + pos)\n",
    "                \n",
    "    def getSuccessor(self, i, j, actionVal) :\n",
    "        velocity = self.getVel(self.pos[i], self.vel[j], actionVal)\n",
    "        position = self.getPos(self.pos[i], velocity)\n",
    "        \n",
    "        pos_idx = bisect_left(pos, position)\n",
    "        vel_idx = bisect_left(vel, velocity)\n",
    "        pos_idx = min(pos_idx, self.m-1)\n",
    "        vel_idx = min(vel_idx, self.n-1)\n",
    "        return self.V[pos_idx, vel_idx], self.R[pos_idx, vel_idx]\n",
    "        \n",
    "    def Bellmann(self, i, j) :\n",
    "        bestAction = \"None\"\n",
    "        max_val = -1e7\n",
    "        for action in self.actionList :\n",
    "            V_successor, reward = self.getSuccessor(i, j, action)\n",
    "            val = reward + V_successor\n",
    "            if(max_val < val) :\n",
    "                max_val = val\n",
    "                bestAction = action\n",
    "                              \n",
    "        return max_val, bestAction\n",
    "                \n",
    "    def ValueIteration(self) :\n",
    "        iter = 0\n",
    "        MAX_ITER = 1000\n",
    "        while(iter < MAX_ITER) :\n",
    "            iter += 1\n",
    "            delta = 0\n",
    "            for i in range(self.m) :\n",
    "                for j in range(self.n) :\n",
    "                    prev = self.V[i, j]\n",
    "                    self.V[i, j], self.policy[i, j] = self.Bellmann(i, j)\n",
    "                    delta = max(delta, abs(prev - self.V[i, j]))\n",
    "            if(iter % 50 == 0) :\n",
    "                print(\"\\nIteration\", iter)\n",
    "                print(\"\\nDelta : \", delta)\n",
    "                print(\"\\nValue : \\n\", self.V)\n",
    "            if(delta < 0.01) :\n",
    "                break\n",
    "                \n",
    "        if(iter == MAX_ITER) :\n",
    "            print(\"\\nValue iteration did not converge in\", iter, \"iterations\")\n",
    "        else :\n",
    "            print(\"\\nValue Iteration converges in\", iter, \"steps\")\n",
    "            print(\"\\nOptimal Value : \\n\", self.V)\n",
    "            print(\"\\nOptimal Policy : \\n\", self.policy)"
   ]
  },
  {
   "cell_type": "markdown",
   "metadata": {},
   "source": [
    "# Driver Program "
   ]
  },
  {
   "cell_type": "code",
   "execution_count": null,
   "metadata": {},
   "outputs": [],
   "source": [
    "pos = np.linspace(-1.2, 0.6, 100)\n",
    "vel = np.linspace(-0.07, 0.07, 100)\n",
    "gamma = 1\n",
    "M = np.array([[[pos[i], vel[j]] for i in range(len(vel))] for j in range(len(pos))])\n",
    "envObj = Environment(M, gamma, pos, vel)\n",
    "envObj.ValueIteration\n",
    "np.savetxt(\"Value.txt\", envObj.V, fmt=\"%5.2f\")\n",
    "np.savetxt(\"Policy.txt\", envObj.policy, fmt=\"%d\")"
   ]
  },
  {
   "cell_type": "code",
   "execution_count": 112,
   "metadata": {},
   "outputs": [
    {
     "data": {
      "image/png": "[encoded data removed]",
      "text/plain": [
       "<matplotlib.figure.Figure at 0x7fa3dc0924e0>"
      ]
     },
     "metadata": {},
     "output_type": "display_data"
    }
   ],
   "source": [
    "plt.imshow(envObj.V, cmap = \"hot\" , interpolation=\"nearest\")\n",
    "plt.show()"
   ]
  },
  {
   "cell_type": "code",
   "execution_count": 114,
   "metadata": {},
   "outputs": [
    {
     "data": {
      "text/plain": [
       "array([1.        , 1.11111111, 1.22222222, 1.33333333, 1.44444444,\n",
       "       1.55555556, 1.66666667, 1.77777778, 1.88888889, 2.        ])"
      ]
     },
     "execution_count": 114,
     "metadata": {},
     "output_type": "execute_result"
    }
   ],
   "source": [
    "a = np.linspace(1, 2, 10)\n",
    "a"
   ]
  }
 ],
 "metadata": {
  "kernelspec": {
   "display_name": "Python 3",
   "language": "python",
   "name": "python3"
  },
  "language_info": {
   "codemirror_mode": {
    "name": "ipython",
    "version": 3
   },
   "file_extension": ".py",
   "mimetype": "text/x-python",
   "name": "python",
   "nbconvert_exporter": "python",
   "pygments_lexer": "ipython3",
   "version": "3.6.4"
  }
 },
 "nbformat": 4,
 "nbformat_minor": 2
}
